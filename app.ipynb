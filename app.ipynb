{
 "cells": [
  {
   "attachments": {},
   "cell_type": "markdown",
   "metadata": {},
   "source": [
    "# Leitura do Dataset e limpeza"
   ]
  },
  {
   "cell_type": "code",
   "execution_count": 65,
   "metadata": {},
   "outputs": [],
   "source": [
    "import pandas as pd\n",
    "import seaborn as sns\n",
    "import matplotlib.pyplot as plt\n",
    "import numpy as np\n",
    "import plotly.express as px"
   ]
  },
  {
   "attachments": {},
   "cell_type": "markdown",
   "metadata": {},
   "source": [
    "LINK PARA O DATASET https://www.kaggle.com/datasets/psychewolf/dota-2-heroes-dataset?select=heroes_data.csv"
   ]
  },
  {
   "attachments": {},
   "cell_type": "markdown",
   "metadata": {},
   "source": [
    "importada as bibliotecas necessárias"
   ]
  },
  {
   "attachments": {},
   "cell_type": "markdown",
   "metadata": {},
   "source": [
    "<h3>Leitura do csv e visualização inicial</h3>"
   ]
  },
  {
   "cell_type": "code",
   "execution_count": 66,
   "metadata": {},
   "outputs": [
    {
     "data": {
      "text/html": [
       "<div>\n",
       "<style scoped>\n",
       "    .dataframe tbody tr th:only-of-type {\n",
       "        vertical-align: middle;\n",
       "    }\n",
       "\n",
       "    .dataframe tbody tr th {\n",
       "        vertical-align: top;\n",
       "    }\n",
       "\n",
       "    .dataframe thead th {\n",
       "        text-align: right;\n",
       "    }\n",
       "</style>\n",
       "<table border=\"1\" class=\"dataframe\">\n",
       "  <thead>\n",
       "    <tr style=\"text-align: right;\">\n",
       "      <th></th>\n",
       "      <th>Unnamed: 0</th>\n",
       "      <th>id</th>\n",
       "      <th>name</th>\n",
       "      <th>localized_name</th>\n",
       "      <th>primary_attr</th>\n",
       "      <th>attack_type</th>\n",
       "      <th>roles</th>\n",
       "      <th>img</th>\n",
       "      <th>icon</th>\n",
       "      <th>base_health</th>\n",
       "      <th>...</th>\n",
       "      <th>5_win</th>\n",
       "      <th>6_pick</th>\n",
       "      <th>6_win</th>\n",
       "      <th>7_pick</th>\n",
       "      <th>7_win</th>\n",
       "      <th>8_pick</th>\n",
       "      <th>8_win</th>\n",
       "      <th>winrate</th>\n",
       "      <th>lane</th>\n",
       "      <th>main_role</th>\n",
       "    </tr>\n",
       "  </thead>\n",
       "  <tbody>\n",
       "    <tr>\n",
       "      <th>66</th>\n",
       "      <td>66</td>\n",
       "      <td>68</td>\n",
       "      <td>npc_dota_hero_ancient_apparition</td>\n",
       "      <td>Ancient Apparition</td>\n",
       "      <td>int</td>\n",
       "      <td>Ranged</td>\n",
       "      <td>['Support', 'Disabler', 'Nuker']</td>\n",
       "      <td>/apps/dota2/images/heroes/ancient_apparition_f...</td>\n",
       "      <td>/apps/dota2/images/heroes/ancient_apparition_i...</td>\n",
       "      <td>200</td>\n",
       "      <td>...</td>\n",
       "      <td>14095</td>\n",
       "      <td>11816</td>\n",
       "      <td>6135</td>\n",
       "      <td>4495</td>\n",
       "      <td>2290</td>\n",
       "      <td>1167</td>\n",
       "      <td>575</td>\n",
       "      <td>50.600495</td>\n",
       "      <td>5</td>\n",
       "      <td>hard_support</td>\n",
       "    </tr>\n",
       "    <tr>\n",
       "      <th>16</th>\n",
       "      <td>16</td>\n",
       "      <td>17</td>\n",
       "      <td>npc_dota_hero_storm_spirit</td>\n",
       "      <td>Storm Spirit</td>\n",
       "      <td>int</td>\n",
       "      <td>Ranged</td>\n",
       "      <td>['Carry', 'Escape', 'Nuker', 'Initiator', 'Dis...</td>\n",
       "      <td>/apps/dota2/images/heroes/storm_spirit_full.png?</td>\n",
       "      <td>/apps/dota2/images/heroes/storm_spirit_icon.png</td>\n",
       "      <td>200</td>\n",
       "      <td>...</td>\n",
       "      <td>15239</td>\n",
       "      <td>14840</td>\n",
       "      <td>7348</td>\n",
       "      <td>6652</td>\n",
       "      <td>3351</td>\n",
       "      <td>2156</td>\n",
       "      <td>1071</td>\n",
       "      <td>50.204360</td>\n",
       "      <td>2</td>\n",
       "      <td>mid</td>\n",
       "    </tr>\n",
       "  </tbody>\n",
       "</table>\n",
       "<p>2 rows × 55 columns</p>\n",
       "</div>"
      ],
      "text/plain": [
       "    Unnamed: 0  id                              name      localized_name  \\\n",
       "66          66  68  npc_dota_hero_ancient_apparition  Ancient Apparition   \n",
       "16          16  17        npc_dota_hero_storm_spirit        Storm Spirit   \n",
       "\n",
       "   primary_attr attack_type  \\\n",
       "66          int      Ranged   \n",
       "16          int      Ranged   \n",
       "\n",
       "                                                roles  \\\n",
       "66                   ['Support', 'Disabler', 'Nuker']   \n",
       "16  ['Carry', 'Escape', 'Nuker', 'Initiator', 'Dis...   \n",
       "\n",
       "                                                  img  \\\n",
       "66  /apps/dota2/images/heroes/ancient_apparition_f...   \n",
       "16   /apps/dota2/images/heroes/storm_spirit_full.png?   \n",
       "\n",
       "                                                 icon  base_health  ...  \\\n",
       "66  /apps/dota2/images/heroes/ancient_apparition_i...          200  ...   \n",
       "16    /apps/dota2/images/heroes/storm_spirit_icon.png          200  ...   \n",
       "\n",
       "    5_win  6_pick  6_win  7_pick  7_win  8_pick  8_win    winrate  lane  \\\n",
       "66  14095   11816   6135    4495   2290    1167    575  50.600495     5   \n",
       "16  15239   14840   7348    6652   3351    2156   1071  50.204360     2   \n",
       "\n",
       "       main_role  \n",
       "66  hard_support  \n",
       "16           mid  \n",
       "\n",
       "[2 rows x 55 columns]"
      ]
     },
     "execution_count": 66,
     "metadata": {},
     "output_type": "execute_result"
    }
   ],
   "source": [
    "df = pd.read_csv('./data/heroes_data.csv',sep=',')\n",
    "df.sample(2)"
   ]
  },
  {
   "cell_type": "code",
   "execution_count": 67,
   "metadata": {},
   "outputs": [
    {
     "data": {
      "text/plain": [
       "Index(['Unnamed: 0', 'id', 'name', 'localized_name', 'primary_attr',\n",
       "       'attack_type', 'roles', 'img', 'icon', 'base_health',\n",
       "       'base_health_regen', 'base_mana', 'base_mana_regen', 'base_armor',\n",
       "       'base_mr', 'base_attack_min', 'base_attack_max', 'base_str', 'base_agi',\n",
       "       'base_int', 'str_gain', 'agi_gain', 'int_gain', 'attack_range',\n",
       "       'projectile_speed', 'attack_rate', 'move_speed', 'turn_rate',\n",
       "       'cm_enabled', 'legs', 'hero_id', 'turbo_picks', 'turbo_wins', 'pro_ban',\n",
       "       'pro_win', 'pro_pick', '1_pick', '1_win', '2_pick', '2_win', '3_pick',\n",
       "       '3_win', '4_pick', '4_win', '5_pick', '5_win', '6_pick', '6_win',\n",
       "       '7_pick', '7_win', '8_pick', '8_win', 'winrate', 'lane', 'main_role'],\n",
       "      dtype='object')"
      ]
     },
     "execution_count": 67,
     "metadata": {},
     "output_type": "execute_result"
    }
   ],
   "source": [
    "df.columns"
   ]
  },
  {
   "cell_type": "code",
   "execution_count": 68,
   "metadata": {},
   "outputs": [
    {
     "data": {
      "text/html": [
       "<div>\n",
       "<style scoped>\n",
       "    .dataframe tbody tr th:only-of-type {\n",
       "        vertical-align: middle;\n",
       "    }\n",
       "\n",
       "    .dataframe tbody tr th {\n",
       "        vertical-align: top;\n",
       "    }\n",
       "\n",
       "    .dataframe thead th {\n",
       "        text-align: right;\n",
       "    }\n",
       "</style>\n",
       "<table border=\"1\" class=\"dataframe\">\n",
       "  <thead>\n",
       "    <tr style=\"text-align: right;\">\n",
       "      <th></th>\n",
       "      <th>localized_name</th>\n",
       "      <th>primary_attr</th>\n",
       "      <th>attack_type</th>\n",
       "      <th>base_health</th>\n",
       "      <th>base_mana</th>\n",
       "      <th>base_mana_regen</th>\n",
       "      <th>base_armor</th>\n",
       "      <th>base_attack_min</th>\n",
       "      <th>base_attack_max</th>\n",
       "      <th>base_str</th>\n",
       "      <th>...</th>\n",
       "      <th>5_pick</th>\n",
       "      <th>5_win</th>\n",
       "      <th>6_pick</th>\n",
       "      <th>6_win</th>\n",
       "      <th>7_pick</th>\n",
       "      <th>7_win</th>\n",
       "      <th>8_pick</th>\n",
       "      <th>8_win</th>\n",
       "      <th>winrate</th>\n",
       "      <th>main_role</th>\n",
       "    </tr>\n",
       "  </thead>\n",
       "  <tbody>\n",
       "    <tr>\n",
       "      <th>115</th>\n",
       "      <td>Grimstroke</td>\n",
       "      <td>int</td>\n",
       "      <td>Ranged</td>\n",
       "      <td>200</td>\n",
       "      <td>75</td>\n",
       "      <td>0.0</td>\n",
       "      <td>0.0</td>\n",
       "      <td>21</td>\n",
       "      <td>25</td>\n",
       "      <td>21</td>\n",
       "      <td>...</td>\n",
       "      <td>27629</td>\n",
       "      <td>13142</td>\n",
       "      <td>13809</td>\n",
       "      <td>6571</td>\n",
       "      <td>6162</td>\n",
       "      <td>2900</td>\n",
       "      <td>2168</td>\n",
       "      <td>981</td>\n",
       "      <td>46.590636</td>\n",
       "      <td>hard_support</td>\n",
       "    </tr>\n",
       "    <tr>\n",
       "      <th>36</th>\n",
       "      <td>Beastmaster</td>\n",
       "      <td>str</td>\n",
       "      <td>Melee</td>\n",
       "      <td>200</td>\n",
       "      <td>75</td>\n",
       "      <td>0.0</td>\n",
       "      <td>-1.0</td>\n",
       "      <td>37</td>\n",
       "      <td>41</td>\n",
       "      <td>23</td>\n",
       "      <td>...</td>\n",
       "      <td>10706</td>\n",
       "      <td>5593</td>\n",
       "      <td>6972</td>\n",
       "      <td>3721</td>\n",
       "      <td>4543</td>\n",
       "      <td>2482</td>\n",
       "      <td>2194</td>\n",
       "      <td>1198</td>\n",
       "      <td>54.623720</td>\n",
       "      <td>offlane</td>\n",
       "    </tr>\n",
       "    <tr>\n",
       "      <th>80</th>\n",
       "      <td>Meepo</td>\n",
       "      <td>agi</td>\n",
       "      <td>Melee</td>\n",
       "      <td>200</td>\n",
       "      <td>75</td>\n",
       "      <td>0.0</td>\n",
       "      <td>4.0</td>\n",
       "      <td>29</td>\n",
       "      <td>35</td>\n",
       "      <td>24</td>\n",
       "      <td>...</td>\n",
       "      <td>3227</td>\n",
       "      <td>1574</td>\n",
       "      <td>1400</td>\n",
       "      <td>680</td>\n",
       "      <td>538</td>\n",
       "      <td>279</td>\n",
       "      <td>110</td>\n",
       "      <td>53</td>\n",
       "      <td>51.234568</td>\n",
       "      <td>mid</td>\n",
       "    </tr>\n",
       "  </tbody>\n",
       "</table>\n",
       "<p>3 rows × 35 columns</p>\n",
       "</div>"
      ],
      "text/plain": [
       "    localized_name primary_attr attack_type  base_health  base_mana  \\\n",
       "115     Grimstroke          int      Ranged          200         75   \n",
       "36     Beastmaster          str       Melee          200         75   \n",
       "80           Meepo          agi       Melee          200         75   \n",
       "\n",
       "     base_mana_regen  base_armor  base_attack_min  base_attack_max  base_str  \\\n",
       "115              0.0         0.0               21               25        21   \n",
       "36               0.0        -1.0               37               41        23   \n",
       "80               0.0         4.0               29               35        24   \n",
       "\n",
       "     ...  5_pick  5_win  6_pick  6_win  7_pick  7_win  8_pick  8_win  \\\n",
       "115  ...   27629  13142   13809   6571    6162   2900    2168    981   \n",
       "36   ...   10706   5593    6972   3721    4543   2482    2194   1198   \n",
       "80   ...    3227   1574    1400    680     538    279     110     53   \n",
       "\n",
       "       winrate     main_role  \n",
       "115  46.590636  hard_support  \n",
       "36   54.623720       offlane  \n",
       "80   51.234568           mid  \n",
       "\n",
       "[3 rows x 35 columns]"
      ]
     },
     "execution_count": 68,
     "metadata": {},
     "output_type": "execute_result"
    }
   ],
   "source": [
    "df.columns\n",
    "df = df[['localized_name','primary_attr','attack_type','base_health','base_mana', 'base_mana_regen', 'base_armor','base_attack_min', 'base_attack_max','base_str', 'base_agi','base_int', 'str_gain', 'agi_gain', 'int_gain', 'attack_range','move_speed','1_pick', '1_win', '2_pick', '2_win','3_pick','3_win', '4_pick', '4_win', '5_pick', '5_win', '6_pick', '6_win','7_pick', '7_win', '8_pick', '8_win', 'winrate','main_role']]\n",
    "df.sample(3)"
   ]
  },
  {
   "cell_type": "code",
   "execution_count": 69,
   "metadata": {},
   "outputs": [],
   "source": [
    "df['winrate'] = round(df['winrate'], 2)"
   ]
  },
  {
   "attachments": {},
   "cell_type": "markdown",
   "metadata": {},
   "source": [
    "<h3>Checando valores nulos ou NaN</h3>"
   ]
  },
  {
   "cell_type": "code",
   "execution_count": 70,
   "metadata": {},
   "outputs": [
    {
     "data": {
      "text/plain": [
       "<AxesSubplot: >"
      ]
     },
     "execution_count": 70,
     "metadata": {},
     "output_type": "execute_result"
    },
    {
     "data": {
      "image/png": "[encoded data removed]",
      "text/plain": [
       "<Figure size 640x480 with 2 Axes>"
      ]
     },
     "metadata": {},
     "output_type": "display_data"
    }
   ],
   "source": [
    "sns.heatmap(df.isna())"
   ]
  },
  {
   "attachments": {},
   "cell_type": "markdown",
   "metadata": {},
   "source": [
    "Não existem valores nulos ou NaN no data frame"
   ]
  },
  {
   "cell_type": "code",
   "execution_count": 71,
   "metadata": {},
   "outputs": [
    {
     "data": {
      "text/html": [
       "<div>\n",
       "<style scoped>\n",
       "    .dataframe tbody tr th:only-of-type {\n",
       "        vertical-align: middle;\n",
       "    }\n",
       "\n",
       "    .dataframe tbody tr th {\n",
       "        vertical-align: top;\n",
       "    }\n",
       "\n",
       "    .dataframe thead th {\n",
       "        text-align: right;\n",
       "    }\n",
       "</style>\n",
       "<table border=\"1\" class=\"dataframe\">\n",
       "  <thead>\n",
       "    <tr style=\"text-align: right;\">\n",
       "      <th></th>\n",
       "      <th>base_health</th>\n",
       "      <th>base_mana</th>\n",
       "      <th>base_mana_regen</th>\n",
       "      <th>base_armor</th>\n",
       "      <th>base_attack_min</th>\n",
       "      <th>base_attack_max</th>\n",
       "      <th>base_str</th>\n",
       "      <th>base_agi</th>\n",
       "      <th>base_int</th>\n",
       "      <th>str_gain</th>\n",
       "      <th>...</th>\n",
       "      <th>4_win</th>\n",
       "      <th>5_pick</th>\n",
       "      <th>5_win</th>\n",
       "      <th>6_pick</th>\n",
       "      <th>6_win</th>\n",
       "      <th>7_pick</th>\n",
       "      <th>7_win</th>\n",
       "      <th>8_pick</th>\n",
       "      <th>8_win</th>\n",
       "      <th>winrate</th>\n",
       "    </tr>\n",
       "  </thead>\n",
       "  <tbody>\n",
       "    <tr>\n",
       "      <th>count</th>\n",
       "      <td>120.0</td>\n",
       "      <td>120.0</td>\n",
       "      <td>120.000000</td>\n",
       "      <td>120.000000</td>\n",
       "      <td>120.000000</td>\n",
       "      <td>120.000000</td>\n",
       "      <td>120.000000</td>\n",
       "      <td>120.000000</td>\n",
       "      <td>120.000000</td>\n",
       "      <td>120.000000</td>\n",
       "      <td>...</td>\n",
       "      <td>120.000000</td>\n",
       "      <td>120.000000</td>\n",
       "      <td>120.000000</td>\n",
       "      <td>120.000000</td>\n",
       "      <td>120.000000</td>\n",
       "      <td>120.000000</td>\n",
       "      <td>120.000000</td>\n",
       "      <td>120.000000</td>\n",
       "      <td>120.000000</td>\n",
       "      <td>120.000000</td>\n",
       "    </tr>\n",
       "    <tr>\n",
       "      <th>mean</th>\n",
       "      <td>200.0</td>\n",
       "      <td>75.0</td>\n",
       "      <td>0.071250</td>\n",
       "      <td>0.337500</td>\n",
       "      <td>26.850000</td>\n",
       "      <td>33.791667</td>\n",
       "      <td>21.316667</td>\n",
       "      <td>18.158333</td>\n",
       "      <td>19.800000</td>\n",
       "      <td>2.705833</td>\n",
       "      <td>...</td>\n",
       "      <td>16584.616667</td>\n",
       "      <td>21915.308333</td>\n",
       "      <td>10957.666667</td>\n",
       "      <td>10150.491667</td>\n",
       "      <td>5075.250000</td>\n",
       "      <td>4429.575000</td>\n",
       "      <td>2214.791667</td>\n",
       "      <td>1326.166667</td>\n",
       "      <td>663.083333</td>\n",
       "      <td>49.902333</td>\n",
       "    </tr>\n",
       "    <tr>\n",
       "      <th>std</th>\n",
       "      <td>0.0</td>\n",
       "      <td>0.0</td>\n",
       "      <td>0.208804</td>\n",
       "      <td>1.565331</td>\n",
       "      <td>7.539977</td>\n",
       "      <td>8.166231</td>\n",
       "      <td>2.992942</td>\n",
       "      <td>4.607257</td>\n",
       "      <td>3.961156</td>\n",
       "      <td>0.597234</td>\n",
       "      <td>...</td>\n",
       "      <td>10343.131893</td>\n",
       "      <td>13227.289342</td>\n",
       "      <td>6757.259479</td>\n",
       "      <td>6124.054342</td>\n",
       "      <td>3119.665322</td>\n",
       "      <td>2685.735145</td>\n",
       "      <td>1352.476085</td>\n",
       "      <td>843.289869</td>\n",
       "      <td>428.309960</td>\n",
       "      <td>2.533215</td>\n",
       "    </tr>\n",
       "    <tr>\n",
       "      <th>min</th>\n",
       "      <td>200.0</td>\n",
       "      <td>75.0</td>\n",
       "      <td>0.000000</td>\n",
       "      <td>-3.000000</td>\n",
       "      <td>9.000000</td>\n",
       "      <td>11.000000</td>\n",
       "      <td>14.000000</td>\n",
       "      <td>0.000000</td>\n",
       "      <td>12.000000</td>\n",
       "      <td>1.300000</td>\n",
       "      <td>...</td>\n",
       "      <td>948.000000</td>\n",
       "      <td>1378.000000</td>\n",
       "      <td>617.000000</td>\n",
       "      <td>772.000000</td>\n",
       "      <td>366.000000</td>\n",
       "      <td>421.000000</td>\n",
       "      <td>223.000000</td>\n",
       "      <td>106.000000</td>\n",
       "      <td>52.000000</td>\n",
       "      <td>43.880000</td>\n",
       "    </tr>\n",
       "    <tr>\n",
       "      <th>25%</th>\n",
       "      <td>200.0</td>\n",
       "      <td>75.0</td>\n",
       "      <td>0.000000</td>\n",
       "      <td>-1.000000</td>\n",
       "      <td>23.000000</td>\n",
       "      <td>29.000000</td>\n",
       "      <td>19.000000</td>\n",
       "      <td>15.000000</td>\n",
       "      <td>16.000000</td>\n",
       "      <td>2.300000</td>\n",
       "      <td>...</td>\n",
       "      <td>9342.250000</td>\n",
       "      <td>12035.750000</td>\n",
       "      <td>6009.000000</td>\n",
       "      <td>5533.250000</td>\n",
       "      <td>2691.500000</td>\n",
       "      <td>2133.750000</td>\n",
       "      <td>1044.250000</td>\n",
       "      <td>541.750000</td>\n",
       "      <td>279.000000</td>\n",
       "      <td>48.142500</td>\n",
       "    </tr>\n",
       "    <tr>\n",
       "      <th>50%</th>\n",
       "      <td>200.0</td>\n",
       "      <td>75.0</td>\n",
       "      <td>0.000000</td>\n",
       "      <td>0.000000</td>\n",
       "      <td>27.000000</td>\n",
       "      <td>34.000000</td>\n",
       "      <td>21.000000</td>\n",
       "      <td>18.000000</td>\n",
       "      <td>20.000000</td>\n",
       "      <td>2.600000</td>\n",
       "      <td>...</td>\n",
       "      <td>14101.000000</td>\n",
       "      <td>19051.500000</td>\n",
       "      <td>9084.000000</td>\n",
       "      <td>8761.000000</td>\n",
       "      <td>4291.500000</td>\n",
       "      <td>3787.000000</td>\n",
       "      <td>1872.500000</td>\n",
       "      <td>1233.500000</td>\n",
       "      <td>581.500000</td>\n",
       "      <td>49.865000</td>\n",
       "    </tr>\n",
       "    <tr>\n",
       "      <th>75%</th>\n",
       "      <td>200.0</td>\n",
       "      <td>75.0</td>\n",
       "      <td>0.000000</td>\n",
       "      <td>1.000000</td>\n",
       "      <td>30.000000</td>\n",
       "      <td>38.000000</td>\n",
       "      <td>23.000000</td>\n",
       "      <td>22.000000</td>\n",
       "      <td>23.000000</td>\n",
       "      <td>3.025000</td>\n",
       "      <td>...</td>\n",
       "      <td>21622.500000</td>\n",
       "      <td>29199.750000</td>\n",
       "      <td>14328.000000</td>\n",
       "      <td>13857.500000</td>\n",
       "      <td>6747.250000</td>\n",
       "      <td>6201.750000</td>\n",
       "      <td>3092.000000</td>\n",
       "      <td>1944.000000</td>\n",
       "      <td>982.000000</td>\n",
       "      <td>51.322500</td>\n",
       "    </tr>\n",
       "    <tr>\n",
       "      <th>max</th>\n",
       "      <td>200.0</td>\n",
       "      <td>75.0</td>\n",
       "      <td>1.000000</td>\n",
       "      <td>7.000000</td>\n",
       "      <td>62.000000</td>\n",
       "      <td>70.000000</td>\n",
       "      <td>29.000000</td>\n",
       "      <td>34.000000</td>\n",
       "      <td>30.000000</td>\n",
       "      <td>4.600000</td>\n",
       "      <td>...</td>\n",
       "      <td>41883.000000</td>\n",
       "      <td>52388.000000</td>\n",
       "      <td>27463.000000</td>\n",
       "      <td>23344.000000</td>\n",
       "      <td>12538.000000</td>\n",
       "      <td>10048.000000</td>\n",
       "      <td>5207.000000</td>\n",
       "      <td>3307.000000</td>\n",
       "      <td>1719.000000</td>\n",
       "      <td>57.520000</td>\n",
       "    </tr>\n",
       "  </tbody>\n",
       "</table>\n",
       "<p>8 rows × 31 columns</p>\n",
       "</div>"
      ],
      "text/plain": [
       "       base_health  base_mana  base_mana_regen  base_armor  base_attack_min  \\\n",
       "count        120.0      120.0       120.000000  120.000000       120.000000   \n",
       "mean         200.0       75.0         0.071250    0.337500        26.850000   \n",
       "std            0.0        0.0         0.208804    1.565331         7.539977   \n",
       "min          200.0       75.0         0.000000   -3.000000         9.000000   \n",
       "25%          200.0       75.0         0.000000   -1.000000        23.000000   \n",
       "50%          200.0       75.0         0.000000    0.000000        27.000000   \n",
       "75%          200.0       75.0         0.000000    1.000000        30.000000   \n",
       "max          200.0       75.0         1.000000    7.000000        62.000000   \n",
       "\n",
       "       base_attack_max    base_str    base_agi    base_int    str_gain  ...  \\\n",
       "count       120.000000  120.000000  120.000000  120.000000  120.000000  ...   \n",
       "mean         33.791667   21.316667   18.158333   19.800000    2.705833  ...   \n",
       "std           8.166231    2.992942    4.607257    3.961156    0.597234  ...   \n",
       "min          11.000000   14.000000    0.000000   12.000000    1.300000  ...   \n",
       "25%          29.000000   19.000000   15.000000   16.000000    2.300000  ...   \n",
       "50%          34.000000   21.000000   18.000000   20.000000    2.600000  ...   \n",
       "75%          38.000000   23.000000   22.000000   23.000000    3.025000  ...   \n",
       "max          70.000000   29.000000   34.000000   30.000000    4.600000  ...   \n",
       "\n",
       "              4_win        5_pick         5_win        6_pick         6_win  \\\n",
       "count    120.000000    120.000000    120.000000    120.000000    120.000000   \n",
       "mean   16584.616667  21915.308333  10957.666667  10150.491667   5075.250000   \n",
       "std    10343.131893  13227.289342   6757.259479   6124.054342   3119.665322   \n",
       "min      948.000000   1378.000000    617.000000    772.000000    366.000000   \n",
       "25%     9342.250000  12035.750000   6009.000000   5533.250000   2691.500000   \n",
       "50%    14101.000000  19051.500000   9084.000000   8761.000000   4291.500000   \n",
       "75%    21622.500000  29199.750000  14328.000000  13857.500000   6747.250000   \n",
       "max    41883.000000  52388.000000  27463.000000  23344.000000  12538.000000   \n",
       "\n",
       "             7_pick        7_win       8_pick        8_win     winrate  \n",
       "count    120.000000   120.000000   120.000000   120.000000  120.000000  \n",
       "mean    4429.575000  2214.791667  1326.166667   663.083333   49.902333  \n",
       "std     2685.735145  1352.476085   843.289869   428.309960    2.533215  \n",
       "min      421.000000   223.000000   106.000000    52.000000   43.880000  \n",
       "25%     2133.750000  1044.250000   541.750000   279.000000   48.142500  \n",
       "50%     3787.000000  1872.500000  1233.500000   581.500000   49.865000  \n",
       "75%     6201.750000  3092.000000  1944.000000   982.000000   51.322500  \n",
       "max    10048.000000  5207.000000  3307.000000  1719.000000   57.520000  \n",
       "\n",
       "[8 rows x 31 columns]"
      ]
     },
     "execution_count": 71,
     "metadata": {},
     "output_type": "execute_result"
    }
   ],
   "source": [
    "df.describe()"
   ]
  },
  {
   "attachments": {},
   "cell_type": "markdown",
   "metadata": {},
   "source": [
    "# Visualização gráfica"
   ]
  },
  {
   "cell_type": "code",
   "execution_count": 72,
   "metadata": {},
   "outputs": [
    {
     "data": {
      "image/png": "[encoded data removed]",
      "text/plain": [
       "<Figure size 1200x800 with 3 Axes>"
      ]
     },
     "metadata": {},
     "output_type": "display_data"
    }
   ],
   "source": [
    "area = plt.figure(figsize=(12,8))\n",
    "fig1 = area.add_subplot(2,2,1)\n",
    "fig2 = area.add_subplot(2,2,2)\n",
    "fig3 = area.add_subplot(2,2,(3,4))\n",
    "\n",
    "fig1.bar(data=df, x=df['attack_type'].unique(), height=df['attack_type'].value_counts())\n",
    "fig1.set_title('Quantidade de herois por tipo de ataque',fontweight=\"bold\")\n",
    "fig1.set_ylabel('Quantidade de herois',fontweight=\"bold\")\n",
    "fig1.set_xlabel('Tipo do ataque',fontweight=\"bold\")\n",
    "\n",
    "fig2.bar(data=df, x=df['primary_attr'].unique(), height=df['primary_attr'].value_counts())\n",
    "fig2.set_title('Quantidade de herois por atributo',fontweight=\"bold\")\n",
    "fig2.set_ylabel('Quantidade de herois',fontweight=\"bold\")\n",
    "fig2.set_xlabel('Atributo primário',fontweight=\"bold\")\n",
    "\n",
    "fig3.bar(data=df, x=df['main_role'].unique(), height=df['main_role'].value_counts())\n",
    "fig3.set_title('Quantidade de herois por função principal',fontweight=\"bold\")\n",
    "fig3.set_ylabel('Quantidade de herois',fontweight=\"bold\")\n",
    "fig3.set_xlabel('Função principal',fontweight=\"bold\")\n",
    "area.tight_layout(pad=2.0)\n",
    "\n",
    "\n",
    "\n"
   ]
  },
  {
   "attachments": {},
   "cell_type": "markdown",
   "metadata": {},
   "source": [
    "<ul>\n",
    "    <li>Nota-se uma predominância de herois Melees no jogo</li>\n",
    "    <li>Nota-se uma predominância de herois possuindo agilidade como seu atributo principal no jogo</li>\n",
    "    <li>Safelane sendo a função principal mais realizada pelos herois e o Mid sendo a que possuem menos herois que façam bem essa função</li>\n",
    "</ul>"
   ]
  },
  {
   "cell_type": "code",
   "execution_count": 73,
   "metadata": {},
   "outputs": [
    {
     "data": {
      "text/plain": [
       "Index(['localized_name', 'primary_attr', 'attack_type', 'base_health',\n",
       "       'base_mana', 'base_mana_regen', 'base_armor', 'base_attack_min',\n",
       "       'base_attack_max', 'base_str', 'base_agi', 'base_int', 'str_gain',\n",
       "       'agi_gain', 'int_gain', 'attack_range', 'move_speed', '1_pick', '1_win',\n",
       "       '2_pick', '2_win', '3_pick', '3_win', '4_pick', '4_win', '5_pick',\n",
       "       '5_win', '6_pick', '6_win', '7_pick', '7_win', '8_pick', '8_win',\n",
       "       'winrate', 'main_role'],\n",
       "      dtype='object')"
      ]
     },
     "execution_count": 73,
     "metadata": {},
     "output_type": "execute_result"
    }
   ],
   "source": [
    "df.columns"
   ]
  },
  {
   "cell_type": "code",
   "execution_count": 74,
   "metadata": {},
   "outputs": [
    {
     "name": "stderr",
     "output_type": "stream",
     "text": [
      "C:\\Users\\Asus\\AppData\\Local\\Temp\\ipykernel_6244\\1741920496.py:4: FutureWarning:\n",
      "\n",
      "The default value of numeric_only in DataFrame.corr is deprecated. In a future version, it will default to False. Select only valid columns or specify the value of numeric_only to silence this warning.\n",
      "\n"
     ]
    },
    {
     "data": {
      "text/html": [
       "<div>\n",
       "<style scoped>\n",
       "    .dataframe tbody tr th:only-of-type {\n",
       "        vertical-align: middle;\n",
       "    }\n",
       "\n",
       "    .dataframe tbody tr th {\n",
       "        vertical-align: top;\n",
       "    }\n",
       "\n",
       "    .dataframe thead th {\n",
       "        text-align: right;\n",
       "    }\n",
       "</style>\n",
       "<table border=\"1\" class=\"dataframe\">\n",
       "  <thead>\n",
       "    <tr style=\"text-align: right;\">\n",
       "      <th></th>\n",
       "      <th>base_mana_regen</th>\n",
       "      <th>base_armor</th>\n",
       "      <th>base_attack_min</th>\n",
       "      <th>base_attack_max</th>\n",
       "      <th>base_str</th>\n",
       "      <th>base_agi</th>\n",
       "      <th>base_int</th>\n",
       "      <th>str_gain</th>\n",
       "      <th>agi_gain</th>\n",
       "      <th>int_gain</th>\n",
       "      <th>attack_range</th>\n",
       "      <th>move_speed</th>\n",
       "    </tr>\n",
       "  </thead>\n",
       "  <tbody>\n",
       "    <tr>\n",
       "      <th>base_mana_regen</th>\n",
       "      <td>1.000000</td>\n",
       "      <td>0.035078</td>\n",
       "      <td>-0.023312</td>\n",
       "      <td>-0.048143</td>\n",
       "      <td>-0.176925</td>\n",
       "      <td>-0.119268</td>\n",
       "      <td>0.211429</td>\n",
       "      <td>-0.120275</td>\n",
       "      <td>-0.060690</td>\n",
       "      <td>0.212071</td>\n",
       "      <td>0.178485</td>\n",
       "      <td>-0.093825</td>\n",
       "    </tr>\n",
       "    <tr>\n",
       "      <th>base_armor</th>\n",
       "      <td>0.035078</td>\n",
       "      <td>1.000000</td>\n",
       "      <td>0.160252</td>\n",
       "      <td>0.129465</td>\n",
       "      <td>-0.015829</td>\n",
       "      <td>-0.075054</td>\n",
       "      <td>-0.009351</td>\n",
       "      <td>0.017652</td>\n",
       "      <td>0.048879</td>\n",
       "      <td>-0.104235</td>\n",
       "      <td>-0.288959</td>\n",
       "      <td>0.288396</td>\n",
       "    </tr>\n",
       "    <tr>\n",
       "      <th>base_attack_min</th>\n",
       "      <td>-0.023312</td>\n",
       "      <td>0.160252</td>\n",
       "      <td>1.000000</td>\n",
       "      <td>0.901469</td>\n",
       "      <td>0.239328</td>\n",
       "      <td>-0.254760</td>\n",
       "      <td>-0.283216</td>\n",
       "      <td>0.247829</td>\n",
       "      <td>-0.151789</td>\n",
       "      <td>-0.285169</td>\n",
       "      <td>-0.471705</td>\n",
       "      <td>-0.037512</td>\n",
       "    </tr>\n",
       "    <tr>\n",
       "      <th>base_attack_max</th>\n",
       "      <td>-0.048143</td>\n",
       "      <td>0.129465</td>\n",
       "      <td>0.901469</td>\n",
       "      <td>1.000000</td>\n",
       "      <td>0.209702</td>\n",
       "      <td>-0.288803</td>\n",
       "      <td>-0.198214</td>\n",
       "      <td>0.266800</td>\n",
       "      <td>-0.216543</td>\n",
       "      <td>-0.208316</td>\n",
       "      <td>-0.394171</td>\n",
       "      <td>-0.054764</td>\n",
       "    </tr>\n",
       "    <tr>\n",
       "      <th>base_str</th>\n",
       "      <td>-0.176925</td>\n",
       "      <td>-0.015829</td>\n",
       "      <td>0.239328</td>\n",
       "      <td>0.209702</td>\n",
       "      <td>1.000000</td>\n",
       "      <td>-0.317515</td>\n",
       "      <td>-0.115112</td>\n",
       "      <td>0.540538</td>\n",
       "      <td>-0.350574</td>\n",
       "      <td>-0.288821</td>\n",
       "      <td>-0.479830</td>\n",
       "      <td>-0.003106</td>\n",
       "    </tr>\n",
       "    <tr>\n",
       "      <th>base_agi</th>\n",
       "      <td>-0.119268</td>\n",
       "      <td>-0.075054</td>\n",
       "      <td>-0.254760</td>\n",
       "      <td>-0.288803</td>\n",
       "      <td>-0.317515</td>\n",
       "      <td>1.000000</td>\n",
       "      <td>-0.063175</td>\n",
       "      <td>-0.404380</td>\n",
       "      <td>0.659817</td>\n",
       "      <td>-0.098293</td>\n",
       "      <td>0.004906</td>\n",
       "      <td>0.145364</td>\n",
       "    </tr>\n",
       "    <tr>\n",
       "      <th>base_int</th>\n",
       "      <td>0.211429</td>\n",
       "      <td>-0.009351</td>\n",
       "      <td>-0.283216</td>\n",
       "      <td>-0.198214</td>\n",
       "      <td>-0.115112</td>\n",
       "      <td>-0.063175</td>\n",
       "      <td>1.000000</td>\n",
       "      <td>-0.194869</td>\n",
       "      <td>-0.192250</td>\n",
       "      <td>0.623221</td>\n",
       "      <td>0.436949</td>\n",
       "      <td>0.019970</td>\n",
       "    </tr>\n",
       "    <tr>\n",
       "      <th>str_gain</th>\n",
       "      <td>-0.120275</td>\n",
       "      <td>0.017652</td>\n",
       "      <td>0.247829</td>\n",
       "      <td>0.266800</td>\n",
       "      <td>0.540538</td>\n",
       "      <td>-0.404380</td>\n",
       "      <td>-0.194869</td>\n",
       "      <td>1.000000</td>\n",
       "      <td>-0.359609</td>\n",
       "      <td>-0.380693</td>\n",
       "      <td>-0.474264</td>\n",
       "      <td>0.017994</td>\n",
       "    </tr>\n",
       "    <tr>\n",
       "      <th>agi_gain</th>\n",
       "      <td>-0.060690</td>\n",
       "      <td>0.048879</td>\n",
       "      <td>-0.151789</td>\n",
       "      <td>-0.216543</td>\n",
       "      <td>-0.350574</td>\n",
       "      <td>0.659817</td>\n",
       "      <td>-0.192250</td>\n",
       "      <td>-0.359609</td>\n",
       "      <td>1.000000</td>\n",
       "      <td>-0.274888</td>\n",
       "      <td>-0.002032</td>\n",
       "      <td>-0.030226</td>\n",
       "    </tr>\n",
       "    <tr>\n",
       "      <th>int_gain</th>\n",
       "      <td>0.212071</td>\n",
       "      <td>-0.104235</td>\n",
       "      <td>-0.285169</td>\n",
       "      <td>-0.208316</td>\n",
       "      <td>-0.288821</td>\n",
       "      <td>-0.098293</td>\n",
       "      <td>0.623221</td>\n",
       "      <td>-0.380693</td>\n",
       "      <td>-0.274888</td>\n",
       "      <td>1.000000</td>\n",
       "      <td>0.671435</td>\n",
       "      <td>-0.157118</td>\n",
       "    </tr>\n",
       "    <tr>\n",
       "      <th>attack_range</th>\n",
       "      <td>0.178485</td>\n",
       "      <td>-0.288959</td>\n",
       "      <td>-0.471705</td>\n",
       "      <td>-0.394171</td>\n",
       "      <td>-0.479830</td>\n",
       "      <td>0.004906</td>\n",
       "      <td>0.436949</td>\n",
       "      <td>-0.474264</td>\n",
       "      <td>-0.002032</td>\n",
       "      <td>0.671435</td>\n",
       "      <td>1.000000</td>\n",
       "      <td>-0.245683</td>\n",
       "    </tr>\n",
       "    <tr>\n",
       "      <th>move_speed</th>\n",
       "      <td>-0.093825</td>\n",
       "      <td>0.288396</td>\n",
       "      <td>-0.037512</td>\n",
       "      <td>-0.054764</td>\n",
       "      <td>-0.003106</td>\n",
       "      <td>0.145364</td>\n",
       "      <td>0.019970</td>\n",
       "      <td>0.017994</td>\n",
       "      <td>-0.030226</td>\n",
       "      <td>-0.157118</td>\n",
       "      <td>-0.245683</td>\n",
       "      <td>1.000000</td>\n",
       "    </tr>\n",
       "  </tbody>\n",
       "</table>\n",
       "</div>"
      ],
      "text/plain": [
       "                 base_mana_regen  base_armor  base_attack_min  \\\n",
       "base_mana_regen         1.000000    0.035078        -0.023312   \n",
       "base_armor              0.035078    1.000000         0.160252   \n",
       "base_attack_min        -0.023312    0.160252         1.000000   \n",
       "base_attack_max        -0.048143    0.129465         0.901469   \n",
       "base_str               -0.176925   -0.015829         0.239328   \n",
       "base_agi               -0.119268   -0.075054        -0.254760   \n",
       "base_int                0.211429   -0.009351        -0.283216   \n",
       "str_gain               -0.120275    0.017652         0.247829   \n",
       "agi_gain               -0.060690    0.048879        -0.151789   \n",
       "int_gain                0.212071   -0.104235        -0.285169   \n",
       "attack_range            0.178485   -0.288959        -0.471705   \n",
       "move_speed             -0.093825    0.288396        -0.037512   \n",
       "\n",
       "                 base_attack_max  base_str  base_agi  base_int  str_gain  \\\n",
       "base_mana_regen        -0.048143 -0.176925 -0.119268  0.211429 -0.120275   \n",
       "base_armor              0.129465 -0.015829 -0.075054 -0.009351  0.017652   \n",
       "base_attack_min         0.901469  0.239328 -0.254760 -0.283216  0.247829   \n",
       "base_attack_max         1.000000  0.209702 -0.288803 -0.198214  0.266800   \n",
       "base_str                0.209702  1.000000 -0.317515 -0.115112  0.540538   \n",
       "base_agi               -0.288803 -0.317515  1.000000 -0.063175 -0.404380   \n",
       "base_int               -0.198214 -0.115112 -0.063175  1.000000 -0.194869   \n",
       "str_gain                0.266800  0.540538 -0.404380 -0.194869  1.000000   \n",
       "agi_gain               -0.216543 -0.350574  0.659817 -0.192250 -0.359609   \n",
       "int_gain               -0.208316 -0.288821 -0.098293  0.623221 -0.380693   \n",
       "attack_range           -0.394171 -0.479830  0.004906  0.436949 -0.474264   \n",
       "move_speed             -0.054764 -0.003106  0.145364  0.019970  0.017994   \n",
       "\n",
       "                 agi_gain  int_gain  attack_range  move_speed  \n",
       "base_mana_regen -0.060690  0.212071      0.178485   -0.093825  \n",
       "base_armor       0.048879 -0.104235     -0.288959    0.288396  \n",
       "base_attack_min -0.151789 -0.285169     -0.471705   -0.037512  \n",
       "base_attack_max -0.216543 -0.208316     -0.394171   -0.054764  \n",
       "base_str        -0.350574 -0.288821     -0.479830   -0.003106  \n",
       "base_agi         0.659817 -0.098293      0.004906    0.145364  \n",
       "base_int        -0.192250  0.623221      0.436949    0.019970  \n",
       "str_gain        -0.359609 -0.380693     -0.474264    0.017994  \n",
       "agi_gain         1.000000 -0.274888     -0.002032   -0.030226  \n",
       "int_gain        -0.274888  1.000000      0.671435   -0.157118  \n",
       "attack_range    -0.002032  0.671435      1.000000   -0.245683  \n",
       "move_speed      -0.030226 -0.157118     -0.245683    1.000000  "
      ]
     },
     "execution_count": 74,
     "metadata": {},
     "output_type": "execute_result"
    }
   ],
   "source": [
    "df_stats = df[['primary_attr','base_health','base_mana', 'base_mana_regen', 'base_armor', 'base_attack_min',\n",
    "       'base_attack_max', 'base_str', 'base_agi', 'base_int', 'str_gain',\n",
    "       'agi_gain', 'int_gain', 'attack_range', 'move_speed','attack_type']]\n",
    "corr = df_stats.corr().iloc[2:,2:]\n",
    "corr"
   ]
  },
  {
   "cell_type": "code",
   "execution_count": 75,
   "metadata": {},
   "outputs": [
    {
     "data": {
      "image/png": "[encoded data removed]",
      "text/plain": [
       "<Figure size 640x480 with 2 Axes>"
      ]
     },
     "metadata": {},
     "output_type": "display_data"
    }
   ],
   "source": [
    "matrix = np.triu(corr)\n",
    "sns.heatmap(corr,mask=matrix)\n",
    "plt.show()"
   ]
  },
  {
   "attachments": {},
   "cell_type": "markdown",
   "metadata": {},
   "source": [
    "Existem algumas informações importantes nesse gráfico.\n",
    "<ol>\n",
    "<li>Percebe-se que quanto maior o atributo básico(provavelmente o atributo primário do heroi) maior o seu ganho ao longo do jogo</li>\n",
    "<li>o ataque básico mínimo e o máximo tem uma grande correlação (0.901469), indicando que os 2 tendem a variar juntos, quanto maior o ataque máximo, maior o ataque mínimo, tendendo a seguir o mesmo delta(intervalo)</li>\n",
    "<li>A mais curiosa é sem duvida a correlação relevante entre o atributo de inteligência e o 'attack range', uma das razões disso se da pela maioria dos herois de inteligência serem herois que atacam de 'ranged'</li>\n",
    "<li>Contrariamente aos herois de inteligência, os herois de força em sua grande maioria são 'melees', fazendo assim com que esses possuam um 'attack range' menor</li>\n",
    "</ol>\n",
    "<h4>gráfico abaixo servem para fundamentar os tópicos 3 e 4</h4>"
   ]
  },
  {
   "cell_type": "code",
   "execution_count": 76,
   "metadata": {},
   "outputs": [
    {
     "data": {
      "text/plain": [
       "array(['agi', 'str', 'int'], dtype=object)"
      ]
     },
     "execution_count": 76,
     "metadata": {},
     "output_type": "execute_result"
    }
   ],
   "source": [
    "df['primary_attr'].unique()"
   ]
  },
  {
   "cell_type": "code",
   "execution_count": 77,
   "metadata": {},
   "outputs": [
    {
     "data": {
      "image/png": "[encoded data removed]",
      "text/plain": [
       "<Figure size 640x480 with 1 Axes>"
      ]
     },
     "metadata": {},
     "output_type": "display_data"
    }
   ],
   "source": [
    "df_str_int = df[(df['primary_attr'] == 'str') | (df['primary_attr'] == 'int')]\n",
    "sns.countplot(x = 'primary_attr', hue = 'attack_type', data = df_str_int)\n",
    "plt.title('Quantidade de herois por tipo de ataque', fontweight=\"bold\")\n",
    "plt.xlabel('Atributo primário')\n",
    "plt.ylabel('Quantidade de herois')\n",
    "plt.show()\n"
   ]
  },
  {
   "attachments": {},
   "cell_type": "markdown",
   "metadata": {},
   "source": [
    "# Insights textuais"
   ]
  },
  {
   "cell_type": "code",
   "execution_count": 78,
   "metadata": {},
   "outputs": [
    {
     "name": "stdout",
     "output_type": "stream",
     "text": [
      "O heroi mais escolhido na 1 escolha é Sniper\n",
      "O heroi mais escolhido na 2 escolha é Pudge\n",
      "O heroi mais escolhido na 3 escolha é Pudge\n",
      "O heroi mais escolhido na 4 escolha é Pudge\n",
      "O heroi mais escolhido na 5 escolha é Pudge\n",
      "O heroi mais escolhido na 6 escolha é Juggernaut\n",
      "O heroi mais escolhido na 7 escolha é Juggernaut\n",
      "O heroi mais escolhido na 8 escolha é Void Spirit\n"
     ]
    }
   ],
   "source": [
    "first_pick = df[df['1_pick'] == df['1_pick'].max()]['localized_name'].values\n",
    "second_pick = df[df['2_pick'] == df['2_pick'].max()]['localized_name'].values\n",
    "third_pick = df[df['3_pick'] == df['3_pick'].max()]['localized_name'].values\n",
    "fourth_pick = df[df['4_pick'] == df['4_pick'].max()]['localized_name'].values\n",
    "fifth_pick = df[df['5_pick'] == df['5_pick'].max()]['localized_name'].values\n",
    "sixth_pick = df[df['6_pick'] == df['6_pick'].max()]['localized_name'].values\n",
    "seventh_pick = df[df['7_pick'] == df['7_pick'].max()]['localized_name'].values\n",
    "eighth_pick = df[df['8_pick'] == df['8_pick'].max()]['localized_name'].values\n",
    "list = [first_pick,second_pick,third_pick,fourth_pick,fifth_pick,sixth_pick,seventh_pick,eighth_pick]\n",
    "for i in range(0,8):\n",
    "    print(f'O heroi mais escolhido na {i+1} escolha é {list[i][0]}')\n"
   ]
  },
  {
   "attachments": {},
   "cell_type": "markdown",
   "metadata": {},
   "source": [
    "criação de nova coluna para saber qual é o heroi mais escolhido, independente de posição ou ordem da escolha."
   ]
  },
  {
   "cell_type": "code",
   "execution_count": 79,
   "metadata": {},
   "outputs": [
    {
     "data": {
      "text/html": [
       "<div>\n",
       "<style scoped>\n",
       "    .dataframe tbody tr th:only-of-type {\n",
       "        vertical-align: middle;\n",
       "    }\n",
       "\n",
       "    .dataframe tbody tr th {\n",
       "        vertical-align: top;\n",
       "    }\n",
       "\n",
       "    .dataframe thead th {\n",
       "        text-align: right;\n",
       "    }\n",
       "</style>\n",
       "<table border=\"1\" class=\"dataframe\">\n",
       "  <thead>\n",
       "    <tr style=\"text-align: right;\">\n",
       "      <th></th>\n",
       "      <th>localized_name</th>\n",
       "      <th>quantidade_vezes_escolhido</th>\n",
       "    </tr>\n",
       "  </thead>\n",
       "  <tbody>\n",
       "    <tr>\n",
       "      <th>1</th>\n",
       "      <td>Pudge</td>\n",
       "      <td>334420</td>\n",
       "    </tr>\n",
       "    <tr>\n",
       "      <th>2</th>\n",
       "      <td>Juggernaut</td>\n",
       "      <td>322241</td>\n",
       "    </tr>\n",
       "    <tr>\n",
       "      <th>3</th>\n",
       "      <td>Lion</td>\n",
       "      <td>318075</td>\n",
       "    </tr>\n",
       "  </tbody>\n",
       "</table>\n",
       "</div>"
      ],
      "text/plain": [
       "  localized_name  quantidade_vezes_escolhido\n",
       "1          Pudge                      334420\n",
       "2     Juggernaut                      322241\n",
       "3           Lion                      318075"
      ]
     },
     "execution_count": 79,
     "metadata": {},
     "output_type": "execute_result"
    }
   ],
   "source": [
    "df['quantidade_vezes_escolhido'] = df['1_pick'] + df['2_pick'] + df['3_pick'] + df['4_pick'] + df['5_pick'] + df['6_pick'] + df['7_pick'] + df['8_pick']\n",
    "herois_mais_escolhidos = df.sort_values(by='quantidade_vezes_escolhido', ascending=False).head(3)[['localized_name', 'quantidade_vezes_escolhido']]\n",
    "herois_mais_escolhidos.index = range(1, herois_mais_escolhidos.shape[0] + 1)\n",
    "herois_mais_escolhidos\n"
   ]
  },
  {
   "attachments": {},
   "cell_type": "markdown",
   "metadata": {},
   "source": [
    "2 Herois (Pudge e Juggernaut) apareceram na lista anterior\n",
    "Importante também saber os menos escolhidos"
   ]
  },
  {
   "cell_type": "code",
   "execution_count": 80,
   "metadata": {},
   "outputs": [
    {
     "data": {
      "text/html": [
       "<div>\n",
       "<style scoped>\n",
       "    .dataframe tbody tr th:only-of-type {\n",
       "        vertical-align: middle;\n",
       "    }\n",
       "\n",
       "    .dataframe tbody tr th {\n",
       "        vertical-align: top;\n",
       "    }\n",
       "\n",
       "    .dataframe thead th {\n",
       "        text-align: right;\n",
       "    }\n",
       "</style>\n",
       "<table border=\"1\" class=\"dataframe\">\n",
       "  <thead>\n",
       "    <tr style=\"text-align: right;\">\n",
       "      <th></th>\n",
       "      <th>localized_name</th>\n",
       "      <th>quantidade_vezes_escolhido</th>\n",
       "    </tr>\n",
       "  </thead>\n",
       "  <tbody>\n",
       "    <tr>\n",
       "      <th>1</th>\n",
       "      <td>Chen</td>\n",
       "      <td>9252</td>\n",
       "    </tr>\n",
       "    <tr>\n",
       "      <th>2</th>\n",
       "      <td>Visage</td>\n",
       "      <td>16768</td>\n",
       "    </tr>\n",
       "    <tr>\n",
       "      <th>3</th>\n",
       "      <td>Brewmaster</td>\n",
       "      <td>24069</td>\n",
       "    </tr>\n",
       "  </tbody>\n",
       "</table>\n",
       "</div>"
      ],
      "text/plain": [
       "  localized_name  quantidade_vezes_escolhido\n",
       "1           Chen                        9252\n",
       "2         Visage                       16768\n",
       "3     Brewmaster                       24069"
      ]
     },
     "execution_count": 80,
     "metadata": {},
     "output_type": "execute_result"
    }
   ],
   "source": [
    "herois_menos_escolhidos = df.sort_values(by='quantidade_vezes_escolhido', ascending=True).head(3)[['localized_name', 'quantidade_vezes_escolhido']]\n",
    "herois_menos_escolhidos.index = range(1, herois_menos_escolhidos.shape[0] + 1)\n",
    "herois_menos_escolhidos"
   ]
  },
  {
   "attachments": {},
   "cell_type": "markdown",
   "metadata": {},
   "source": [
    "Estudando agora os herois com maior e menor winrate"
   ]
  },
  {
   "cell_type": "code",
   "execution_count": 81,
   "metadata": {},
   "outputs": [
    {
     "name": "stdout",
     "output_type": "stream",
     "text": [
      "Sabendo que a média de winrate é 49.9\n"
     ]
    }
   ],
   "source": [
    "media_winrate = round(df['winrate'].mean(),2)\n",
    "print(f'Sabendo que a média de winrate é {media_winrate}')"
   ]
  },
  {
   "cell_type": "code",
   "execution_count": 82,
   "metadata": {},
   "outputs": [
    {
     "data": {
      "text/html": [
       "<div>\n",
       "<style scoped>\n",
       "    .dataframe tbody tr th:only-of-type {\n",
       "        vertical-align: middle;\n",
       "    }\n",
       "\n",
       "    .dataframe tbody tr th {\n",
       "        vertical-align: top;\n",
       "    }\n",
       "\n",
       "    .dataframe thead th {\n",
       "        text-align: right;\n",
       "    }\n",
       "</style>\n",
       "<table border=\"1\" class=\"dataframe\">\n",
       "  <thead>\n",
       "    <tr style=\"text-align: right;\">\n",
       "      <th></th>\n",
       "      <th>localized_name</th>\n",
       "      <th>winrate</th>\n",
       "    </tr>\n",
       "  </thead>\n",
       "  <tbody>\n",
       "    <tr>\n",
       "      <th>1</th>\n",
       "      <td>Lycan</td>\n",
       "      <td>57.52</td>\n",
       "    </tr>\n",
       "    <tr>\n",
       "      <th>2</th>\n",
       "      <td>Broodmother</td>\n",
       "      <td>56.86</td>\n",
       "    </tr>\n",
       "    <tr>\n",
       "      <th>3</th>\n",
       "      <td>Clinkz</td>\n",
       "      <td>56.59</td>\n",
       "    </tr>\n",
       "  </tbody>\n",
       "</table>\n",
       "</div>"
      ],
      "text/plain": [
       "  localized_name  winrate\n",
       "1          Lycan    57.52\n",
       "2    Broodmother    56.86\n",
       "3         Clinkz    56.59"
      ]
     },
     "execution_count": 82,
     "metadata": {},
     "output_type": "execute_result"
    }
   ],
   "source": [
    "herois_maior_winrate = df.sort_values(by='winrate', ascending=False).head(3)[['localized_name', 'winrate']]\n",
    "herois_maior_winrate.index = range(1, herois_maior_winrate.shape[0] + 1)\n",
    "round(herois_maior_winrate,2)"
   ]
  },
  {
   "attachments": {},
   "cell_type": "markdown",
   "metadata": {},
   "source": [
    "MENOR"
   ]
  },
  {
   "cell_type": "code",
   "execution_count": 83,
   "metadata": {},
   "outputs": [
    {
     "data": {
      "text/html": [
       "<div>\n",
       "<style scoped>\n",
       "    .dataframe tbody tr th:only-of-type {\n",
       "        vertical-align: middle;\n",
       "    }\n",
       "\n",
       "    .dataframe tbody tr th {\n",
       "        vertical-align: top;\n",
       "    }\n",
       "\n",
       "    .dataframe thead th {\n",
       "        text-align: right;\n",
       "    }\n",
       "</style>\n",
       "<table border=\"1\" class=\"dataframe\">\n",
       "  <thead>\n",
       "    <tr style=\"text-align: right;\">\n",
       "      <th></th>\n",
       "      <th>localized_name</th>\n",
       "      <th>winrate</th>\n",
       "    </tr>\n",
       "  </thead>\n",
       "  <tbody>\n",
       "    <tr>\n",
       "      <th>1</th>\n",
       "      <td>Sven</td>\n",
       "      <td>43.88</td>\n",
       "    </tr>\n",
       "    <tr>\n",
       "      <th>2</th>\n",
       "      <td>Magnus</td>\n",
       "      <td>44.47</td>\n",
       "    </tr>\n",
       "    <tr>\n",
       "      <th>3</th>\n",
       "      <td>Tiny</td>\n",
       "      <td>45.48</td>\n",
       "    </tr>\n",
       "  </tbody>\n",
       "</table>\n",
       "</div>"
      ],
      "text/plain": [
       "  localized_name  winrate\n",
       "1           Sven    43.88\n",
       "2         Magnus    44.47\n",
       "3           Tiny    45.48"
      ]
     },
     "execution_count": 83,
     "metadata": {},
     "output_type": "execute_result"
    }
   ],
   "source": [
    "herois_maior_winrate = df.sort_values(by='winrate', ascending=True).head(3)[['localized_name', 'winrate']]\n",
    "herois_maior_winrate.index = range(1, herois_maior_winrate.shape[0] + 1)\n",
    "round(herois_maior_winrate,2)"
   ]
  },
  {
   "attachments": {},
   "cell_type": "markdown",
   "metadata": {},
   "source": [
    "# Visualização gráfica 2"
   ]
  },
  {
   "cell_type": "code",
   "execution_count": 84,
   "metadata": {},
   "outputs": [
    {
     "data": {
      "application/vnd.plotly.v1+json": {
       "config": {
        "plotlyServerURL": "https://plot.ly"
       },
       "data": [
        {
         "customdata": [
          [
           "agi",
           "Anti-Mage"
          ],
          [
           "agi",
           "Bloodseeker"
          ],
          [
           "agi",
           "Drow Ranger"
          ],
          [
           "agi",
           "Juggernaut"
          ],
          [
           "agi",
           "Mirana"
          ],
          [
           "agi",
           "Morphling"
          ],
          [
           "agi",
           "Shadow Fiend"
          ],
          [
           "agi",
           "Phantom Lancer"
          ],
          [
           "agi",
           "Razor"
          ],
          [
           "agi",
           "Vengeful Spirit"
          ],
          [
           "agi",
           "Riki"
          ],
          [
           "agi",
           "Sniper"
          ],
          [
           "agi",
           "Venomancer"
          ],
          [
           "agi",
           "Faceless Void"
          ],
          [
           "agi",
           "Phantom Assassin"
          ],
          [
           "agi",
           "Templar Assassin"
          ],
          [
           "agi",
           "Viper"
          ],
          [
           "agi",
           "Luna"
          ],
          [
           "agi",
           "Clinkz"
          ],
          [
           "agi",
           "Broodmother"
          ],
          [
           "agi",
           "Bounty Hunter"
          ],
          [
           "agi",
           "Weaver"
          ],
          [
           "agi",
           "Spectre"
          ],
          [
           "agi",
           "Ursa"
          ],
          [
           "agi",
           "Gyrocopter"
          ],
          [
           "agi",
           "Lone Druid"
          ],
          [
           "agi",
           "Meepo"
          ],
          [
           "agi",
           "Nyx Assassin"
          ],
          [
           "agi",
           "Naga Siren"
          ],
          [
           "agi",
           "Slark"
          ],
          [
           "agi",
           "Medusa"
          ],
          [
           "agi",
           "Troll Warlord"
          ],
          [
           "agi",
           "Ember Spirit"
          ],
          [
           "agi",
           "Terrorblade"
          ],
          [
           "agi",
           "Arc Warden"
          ],
          [
           "agi",
           "Monkey King"
          ],
          [
           "agi",
           "Pangolier"
          ],
          [
           "agi",
           "Hoodwink"
          ]
         ],
         "hovertemplate": "primary_attr=%{customdata[0]}<br>main_role=%{x}<br>winrate=%{y}<br>localized_name=%{customdata[1]}<extra></extra>",
         "legendgroup": "agi",
         "marker": {
          "color": "#636efa",
          "symbol": "circle"
         },
         "mode": "markers",
         "name": "agi",
         "orientation": "v",
         "showlegend": true,
         "type": "scatter",
         "x": [
          "safelane",
          "safelane",
          "safelane",
          "safelane",
          "support",
          "safelane",
          "mid",
          "safelane",
          "offlane",
          "hard_support",
          "safelane",
          "mid",
          "support",
          "safelane",
          "safelane",
          "mid",
          "mid",
          "safelane",
          "mid",
          "mid",
          "offlane",
          "safelane",
          "safelane",
          "safelane",
          "safelane",
          "mid",
          "mid",
          "offlane",
          "safelane",
          "safelane",
          "safelane",
          "safelane",
          "mid",
          "safelane",
          "mid",
          "safelane",
          "offlane",
          "offlane"
         ],
         "xaxis": "x",
         "y": [
          47.87,
          49.4,
          48.7,
          51.31,
          51.18,
          47.73,
          46.48,
          50.67,
          52.61,
          48.26,
          48.56,
          46.91,
          51.34,
          45.82,
          46.69,
          53.46,
          47.06,
          50.98,
          56.59,
          56.86,
          54.09,
          50.53,
          47.58,
          50.52,
          48.58,
          48.16,
          51.23,
          53.18,
          51.76,
          48.09,
          47.19,
          51.05,
          48.45,
          47.99,
          50.94,
          51.61,
          50.28,
          50.78
         ],
         "yaxis": "y"
        },
        {
         "alignmentgroup": "True",
         "customdata": [
          [
           "agi",
           "Anti-Mage"
          ],
          [
           "agi",
           "Bloodseeker"
          ],
          [
           "agi",
           "Drow Ranger"
          ],
          [
           "agi",
           "Juggernaut"
          ],
          [
           "agi",
           "Mirana"
          ],
          [
           "agi",
           "Morphling"
          ],
          [
           "agi",
           "Shadow Fiend"
          ],
          [
           "agi",
           "Phantom Lancer"
          ],
          [
           "agi",
           "Razor"
          ],
          [
           "agi",
           "Vengeful Spirit"
          ],
          [
           "agi",
           "Riki"
          ],
          [
           "agi",
           "Sniper"
          ],
          [
           "agi",
           "Venomancer"
          ],
          [
           "agi",
           "Faceless Void"
          ],
          [
           "agi",
           "Phantom Assassin"
          ],
          [
           "agi",
           "Templar Assassin"
          ],
          [
           "agi",
           "Viper"
          ],
          [
           "agi",
           "Luna"
          ],
          [
           "agi",
           "Clinkz"
          ],
          [
           "agi",
           "Broodmother"
          ],
          [
           "agi",
           "Bounty Hunter"
          ],
          [
           "agi",
           "Weaver"
          ],
          [
           "agi",
           "Spectre"
          ],
          [
           "agi",
           "Ursa"
          ],
          [
           "agi",
           "Gyrocopter"
          ],
          [
           "agi",
           "Lone Druid"
          ],
          [
           "agi",
           "Meepo"
          ],
          [
           "agi",
           "Nyx Assassin"
          ],
          [
           "agi",
           "Naga Siren"
          ],
          [
           "agi",
           "Slark"
          ],
          [
           "agi",
           "Medusa"
          ],
          [
           "agi",
           "Troll Warlord"
          ],
          [
           "agi",
           "Ember Spirit"
          ],
          [
           "agi",
           "Terrorblade"
          ],
          [
           "agi",
           "Arc Warden"
          ],
          [
           "agi",
           "Monkey King"
          ],
          [
           "agi",
           "Pangolier"
          ],
          [
           "agi",
           "Hoodwink"
          ]
         ],
         "hovertemplate": "primary_attr=%{customdata[0]}<br>winrate=%{y}<br>localized_name=%{customdata[1]}<extra></extra>",
         "legendgroup": "agi",
         "marker": {
          "color": "#636efa",
          "symbol": "circle"
         },
         "name": "agi",
         "notched": true,
         "offsetgroup": "agi",
         "showlegend": false,
         "type": "box",
         "xaxis": "x2",
         "y": [
          47.87,
          49.4,
          48.7,
          51.31,
          51.18,
          47.73,
          46.48,
          50.67,
          52.61,
          48.26,
          48.56,
          46.91,
          51.34,
          45.82,
          46.69,
          53.46,
          47.06,
          50.98,
          56.59,
          56.86,
          54.09,
          50.53,
          47.58,
          50.52,
          48.58,
          48.16,
          51.23,
          53.18,
          51.76,
          48.09,
          47.19,
          51.05,
          48.45,
          47.99,
          50.94,
          51.61,
          50.28,
          50.78
         ],
         "yaxis": "y2"
        },
        {
         "customdata": [
          [
           "str",
           "Axe"
          ],
          [
           "str",
           "Earthshaker"
          ],
          [
           "str",
           "Pudge"
          ],
          [
           "str",
           "Sand King"
          ],
          [
           "str",
           "Sven"
          ],
          [
           "str",
           "Tiny"
          ],
          [
           "str",
           "Kunkka"
          ],
          [
           "str",
           "Slardar"
          ],
          [
           "str",
           "Tidehunter"
          ],
          [
           "str",
           "Beastmaster"
          ],
          [
           "str",
           "Wraith King"
          ],
          [
           "str",
           "Dragon Knight"
          ],
          [
           "str",
           "Clockwerk"
          ],
          [
           "str",
           "Lifestealer"
          ],
          [
           "str",
           "Omniknight"
          ],
          [
           "str",
           "Huskar"
          ],
          [
           "str",
           "Night Stalker"
          ],
          [
           "str",
           "Doom"
          ],
          [
           "str",
           "Spirit Breaker"
          ],
          [
           "str",
           "Alchemist"
          ],
          [
           "str",
           "Lycan"
          ],
          [
           "str",
           "Brewmaster"
          ],
          [
           "str",
           "Chaos Knight"
          ],
          [
           "str",
           "Treant Protector"
          ],
          [
           "str",
           "Undying"
          ],
          [
           "str",
           "Io"
          ],
          [
           "str",
           "Centaur Warrunner"
          ],
          [
           "str",
           "Magnus"
          ],
          [
           "str",
           "Timbersaw"
          ],
          [
           "str",
           "Bristleback"
          ],
          [
           "str",
           "Tusk"
          ],
          [
           "str",
           "Abaddon"
          ],
          [
           "str",
           "Elder Titan"
          ],
          [
           "str",
           "Legion Commander"
          ],
          [
           "str",
           "Earth Spirit"
          ],
          [
           "str",
           "Underlord"
          ],
          [
           "str",
           "Phoenix"
          ],
          [
           "str",
           "Snapfire"
          ],
          [
           "str",
           "Mars"
          ]
         ],
         "hovertemplate": "primary_attr=%{customdata[0]}<br>main_role=%{x}<br>winrate=%{y}<br>localized_name=%{customdata[1]}<extra></extra>",
         "legendgroup": "str",
         "marker": {
          "color": "#EF553B",
          "symbol": "circle"
         },
         "mode": "markers",
         "name": "str",
         "orientation": "v",
         "showlegend": true,
         "type": "scatter",
         "x": [
          "offlane",
          "support",
          "offlane",
          "support",
          "safelane",
          "offlane",
          "mid",
          "offlane",
          "offlane",
          "offlane",
          "safelane",
          "offlane",
          "offlane",
          "safelane",
          "support",
          "mid",
          "offlane",
          "offlane",
          "offlane",
          "mid",
          "safelane",
          "offlane",
          "offlane",
          "support",
          "support",
          "hard_support",
          "offlane",
          "offlane",
          "offlane",
          "offlane",
          "offlane",
          "support",
          "offlane",
          "offlane",
          "offlane",
          "support",
          "support",
          "support",
          "offlane"
         ],
         "xaxis": "x",
         "y": [
          48.71,
          51.56,
          46.7,
          51.16,
          43.88,
          45.48,
          46.36,
          48.75,
          51.59,
          54.62,
          51.84,
          49.24,
          51.13,
          49.6,
          48.64,
          52.08,
          52.89,
          47.09,
          49.51,
          52.71,
          57.52,
          48.87,
          52.2,
          48.7,
          49.99,
          50.22,
          48.83,
          44.47,
          48.93,
          45.59,
          49.85,
          51.75,
          49.04,
          48.91,
          51,
          52.32,
          50.46,
          46.32,
          47.76
         ],
         "yaxis": "y"
        },
        {
         "alignmentgroup": "True",
         "customdata": [
          [
           "str",
           "Axe"
          ],
          [
           "str",
           "Earthshaker"
          ],
          [
           "str",
           "Pudge"
          ],
          [
           "str",
           "Sand King"
          ],
          [
           "str",
           "Sven"
          ],
          [
           "str",
           "Tiny"
          ],
          [
           "str",
           "Kunkka"
          ],
          [
           "str",
           "Slardar"
          ],
          [
           "str",
           "Tidehunter"
          ],
          [
           "str",
           "Beastmaster"
          ],
          [
           "str",
           "Wraith King"
          ],
          [
           "str",
           "Dragon Knight"
          ],
          [
           "str",
           "Clockwerk"
          ],
          [
           "str",
           "Lifestealer"
          ],
          [
           "str",
           "Omniknight"
          ],
          [
           "str",
           "Huskar"
          ],
          [
           "str",
           "Night Stalker"
          ],
          [
           "str",
           "Doom"
          ],
          [
           "str",
           "Spirit Breaker"
          ],
          [
           "str",
           "Alchemist"
          ],
          [
           "str",
           "Lycan"
          ],
          [
           "str",
           "Brewmaster"
          ],
          [
           "str",
           "Chaos Knight"
          ],
          [
           "str",
           "Treant Protector"
          ],
          [
           "str",
           "Undying"
          ],
          [
           "str",
           "Io"
          ],
          [
           "str",
           "Centaur Warrunner"
          ],
          [
           "str",
           "Magnus"
          ],
          [
           "str",
           "Timbersaw"
          ],
          [
           "str",
           "Bristleback"
          ],
          [
           "str",
           "Tusk"
          ],
          [
           "str",
           "Abaddon"
          ],
          [
           "str",
           "Elder Titan"
          ],
          [
           "str",
           "Legion Commander"
          ],
          [
           "str",
           "Earth Spirit"
          ],
          [
           "str",
           "Underlord"
          ],
          [
           "str",
           "Phoenix"
          ],
          [
           "str",
           "Snapfire"
          ],
          [
           "str",
           "Mars"
          ]
         ],
         "hovertemplate": "primary_attr=%{customdata[0]}<br>winrate=%{y}<br>localized_name=%{customdata[1]}<extra></extra>",
         "legendgroup": "str",
         "marker": {
          "color": "#EF553B",
          "symbol": "circle"
         },
         "name": "str",
         "notched": true,
         "offsetgroup": "str",
         "showlegend": false,
         "type": "box",
         "xaxis": "x2",
         "y": [
          48.71,
          51.56,
          46.7,
          51.16,
          43.88,
          45.48,
          46.36,
          48.75,
          51.59,
          54.62,
          51.84,
          49.24,
          51.13,
          49.6,
          48.64,
          52.08,
          52.89,
          47.09,
          49.51,
          52.71,
          57.52,
          48.87,
          52.2,
          48.7,
          49.99,
          50.22,
          48.83,
          44.47,
          48.93,
          45.59,
          49.85,
          51.75,
          49.04,
          48.91,
          51,
          52.32,
          50.46,
          46.32,
          47.76
         ],
         "yaxis": "y2"
        },
        {
         "customdata": [
          [
           "int",
           "Bane"
          ],
          [
           "int",
           "Crystal Maiden"
          ],
          [
           "int",
           "Puck"
          ],
          [
           "int",
           "Storm Spirit"
          ],
          [
           "int",
           "Windranger"
          ],
          [
           "int",
           "Zeus"
          ],
          [
           "int",
           "Lina"
          ],
          [
           "int",
           "Lion"
          ],
          [
           "int",
           "Shadow Shaman"
          ],
          [
           "int",
           "Witch Doctor"
          ],
          [
           "int",
           "Lich"
          ],
          [
           "int",
           "Enigma"
          ],
          [
           "int",
           "Tinker"
          ],
          [
           "int",
           "Necrophos"
          ],
          [
           "int",
           "Warlock"
          ],
          [
           "int",
           "Queen of Pain"
          ],
          [
           "int",
           "Death Prophet"
          ],
          [
           "int",
           "Pugna"
          ],
          [
           "int",
           "Dazzle"
          ],
          [
           "int",
           "Leshrac"
          ],
          [
           "int",
           "Nature's Prophet"
          ],
          [
           "int",
           "Dark Seer"
          ],
          [
           "int",
           "Enchantress"
          ],
          [
           "int",
           "Jakiro"
          ],
          [
           "int",
           "Batrider"
          ],
          [
           "int",
           "Chen"
          ],
          [
           "int",
           "Ancient Apparition"
          ],
          [
           "int",
           "Invoker"
          ],
          [
           "int",
           "Silencer"
          ],
          [
           "int",
           "Outworld Devourer"
          ],
          [
           "int",
           "Shadow Demon"
          ],
          [
           "int",
           "Ogre Magi"
          ],
          [
           "int",
           "Rubick"
          ],
          [
           "int",
           "Disruptor"
          ],
          [
           "int",
           "Keeper of the Light"
          ],
          [
           "int",
           "Visage"
          ],
          [
           "int",
           "Skywrath Mage"
          ],
          [
           "int",
           "Techies"
          ],
          [
           "int",
           "Oracle"
          ],
          [
           "int",
           "Winter Wyvern"
          ],
          [
           "int",
           "Dark Willow"
          ],
          [
           "int",
           "Grimstroke"
          ],
          [
           "int",
           "Void Spirit"
          ]
         ],
         "hovertemplate": "primary_attr=%{customdata[0]}<br>main_role=%{x}<br>winrate=%{y}<br>localized_name=%{customdata[1]}<extra></extra>",
         "legendgroup": "int",
         "marker": {
          "color": "#00cc96",
          "symbol": "circle"
         },
         "mode": "markers",
         "name": "int",
         "orientation": "v",
         "showlegend": true,
         "type": "scatter",
         "x": [
          "hard_support",
          "hard_support",
          "mid",
          "mid",
          "support",
          "mid",
          "support",
          "hard_support",
          "hard_support",
          "hard_support",
          "hard_support",
          "offlane",
          "mid",
          "offlane",
          "hard_support",
          "mid",
          "mid",
          "mid",
          "hard_support",
          "mid",
          "offlane",
          "offlane",
          "hard_support",
          "hard_support",
          "mid",
          "hard_support",
          "hard_support",
          "mid",
          "support",
          "mid",
          "hard_support",
          "hard_support",
          "support",
          "hard_support",
          "hard_support",
          "mid",
          "support",
          "offlane",
          "hard_support",
          "hard_support",
          "support",
          "hard_support",
          "mid"
         ],
         "xaxis": "x",
         "y": [
          52.69,
          49.86,
          51.25,
          50.2,
          51.32,
          46.98,
          46.9,
          50.43,
          53.37,
          47.56,
          48.47,
          55.78,
          50.37,
          48.52,
          52.3,
          49.46,
          49.58,
          51.33,
          48.97,
          49.61,
          47.35,
          53.05,
          47.42,
          50.24,
          49.63,
          53.97,
          50.6,
          51.78,
          47.93,
          50.61,
          47.06,
          50.94,
          47.73,
          48.68,
          45.98,
          54.62,
          49.2,
          49.87,
          51.45,
          50.17,
          51.08,
          46.59,
          50.62
         ],
         "yaxis": "y"
        },
        {
         "alignmentgroup": "True",
         "customdata": [
          [
           "int",
           "Bane"
          ],
          [
           "int",
           "Crystal Maiden"
          ],
          [
           "int",
           "Puck"
          ],
          [
           "int",
           "Storm Spirit"
          ],
          [
           "int",
           "Windranger"
          ],
          [
           "int",
           "Zeus"
          ],
          [
           "int",
           "Lina"
          ],
          [
           "int",
           "Lion"
          ],
          [
           "int",
           "Shadow Shaman"
          ],
          [
           "int",
           "Witch Doctor"
          ],
          [
           "int",
           "Lich"
          ],
          [
           "int",
           "Enigma"
          ],
          [
           "int",
           "Tinker"
          ],
          [
           "int",
           "Necrophos"
          ],
          [
           "int",
           "Warlock"
          ],
          [
           "int",
           "Queen of Pain"
          ],
          [
           "int",
           "Death Prophet"
          ],
          [
           "int",
           "Pugna"
          ],
          [
           "int",
           "Dazzle"
          ],
          [
           "int",
           "Leshrac"
          ],
          [
           "int",
           "Nature's Prophet"
          ],
          [
           "int",
           "Dark Seer"
          ],
          [
           "int",
           "Enchantress"
          ],
          [
           "int",
           "Jakiro"
          ],
          [
           "int",
           "Batrider"
          ],
          [
           "int",
           "Chen"
          ],
          [
           "int",
           "Ancient Apparition"
          ],
          [
           "int",
           "Invoker"
          ],
          [
           "int",
           "Silencer"
          ],
          [
           "int",
           "Outworld Devourer"
          ],
          [
           "int",
           "Shadow Demon"
          ],
          [
           "int",
           "Ogre Magi"
          ],
          [
           "int",
           "Rubick"
          ],
          [
           "int",
           "Disruptor"
          ],
          [
           "int",
           "Keeper of the Light"
          ],
          [
           "int",
           "Visage"
          ],
          [
           "int",
           "Skywrath Mage"
          ],
          [
           "int",
           "Techies"
          ],
          [
           "int",
           "Oracle"
          ],
          [
           "int",
           "Winter Wyvern"
          ],
          [
           "int",
           "Dark Willow"
          ],
          [
           "int",
           "Grimstroke"
          ],
          [
           "int",
           "Void Spirit"
          ]
         ],
         "hovertemplate": "primary_attr=%{customdata[0]}<br>winrate=%{y}<br>localized_name=%{customdata[1]}<extra></extra>",
         "legendgroup": "int",
         "marker": {
          "color": "#00cc96",
          "symbol": "circle"
         },
         "name": "int",
         "notched": true,
         "offsetgroup": "int",
         "showlegend": false,
         "type": "box",
         "xaxis": "x2",
         "y": [
          52.69,
          49.86,
          51.25,
          50.2,
          51.32,
          46.98,
          46.9,
          50.43,
          53.37,
          47.56,
          48.47,
          55.78,
          50.37,
          48.52,
          52.3,
          49.46,
          49.58,
          51.33,
          48.97,
          49.61,
          47.35,
          53.05,
          47.42,
          50.24,
          49.63,
          53.97,
          50.6,
          51.78,
          47.93,
          50.61,
          47.06,
          50.94,
          47.73,
          48.68,
          45.98,
          54.62,
          49.2,
          49.87,
          51.45,
          50.17,
          51.08,
          46.59,
          50.62
         ],
         "yaxis": "y2"
        }
       ],
       "layout": {
        "legend": {
         "title": {
          "text": "primary_attr"
         },
         "tracegroupgap": 0
        },
        "template": {
         "data": {
          "bar": [
           {
            "error_x": {
             "color": "#2a3f5f"
            },
            "error_y": {
             "color": "#2a3f5f"
            },
            "marker": {
             "line": {
              "color": "#E5ECF6",
              "width": 0.5
             },
             "pattern": {
              "fillmode": "overlay",
              "size": 10,
              "solidity": 0.2
             }
            },
            "type": "bar"
           }
          ],
          "barpolar": [
           {
            "marker": {
             "line": {
              "color": "#E5ECF6",
              "width": 0.5
             },
             "pattern": {
              "fillmode": "overlay",
              "size": 10,
              "solidity": 0.2
             }
            },
            "type": "barpolar"
           }
          ],
          "carpet": [
           {
            "aaxis": {
             "endlinecolor": "#2a3f5f",
             "gridcolor": "white",
             "linecolor": "white",
             "minorgridcolor": "white",
             "startlinecolor": "#2a3f5f"
            },
            "baxis": {
             "endlinecolor": "#2a3f5f",
             "gridcolor": "white",
             "linecolor": "white",
             "minorgridcolor": "white",
             "startlinecolor": "#2a3f5f"
            },
            "type": "carpet"
           }
          ],
          "choropleth": [
           {
            "colorbar": {
             "outlinewidth": 0,
             "ticks": ""
            },
            "type": "choropleth"
           }
          ],
          "contour": [
           {
            "colorbar": {
             "outlinewidth": 0,
             "ticks": ""
            },
            "colorscale": [
             [
              0,
              "#0d0887"
             ],
             [
              0.1111111111111111,
              "#46039f"
             ],
             [
              0.2222222222222222,
              "#7201a8"
             ],
             [
              0.3333333333333333,
              "#9c179e"
             ],
             [
              0.4444444444444444,
              "#bd3786"
             ],
             [
              0.5555555555555556,
              "#d8576b"
             ],
             [
              0.6666666666666666,
              "#ed7953"
             ],
             [
              0.7777777777777778,
              "#fb9f3a"
             ],
             [
              0.8888888888888888,
              "#fdca26"
             ],
             [
              1,
              "#f0f921"
             ]
            ],
            "type": "contour"
           }
          ],
          "contourcarpet": [
           {
            "colorbar": {
             "outlinewidth": 0,
             "ticks": ""
            },
            "type": "contourcarpet"
           }
          ],
          "heatmap": [
           {
            "colorbar": {
             "outlinewidth": 0,
             "ticks": ""
            },
            "colorscale": [
             [
              0,
              "#0d0887"
             ],
             [
              0.1111111111111111,
              "#46039f"
             ],
             [
              0.2222222222222222,
              "#7201a8"
             ],
             [
              0.3333333333333333,
              "#9c179e"
             ],
             [
              0.4444444444444444,
              "#bd3786"
             ],
             [
              0.5555555555555556,
              "#d8576b"
             ],
             [
              0.6666666666666666,
              "#ed7953"
             ],
             [
              0.7777777777777778,
              "#fb9f3a"
             ],
             [
              0.8888888888888888,
              "#fdca26"
             ],
             [
              1,
              "#f0f921"
             ]
            ],
            "type": "heatmap"
           }
          ],
          "heatmapgl": [
           {
            "colorbar": {
             "outlinewidth": 0,
             "ticks": ""
            },
            "colorscale": [
             [
              0,
              "#0d0887"
             ],
             [
              0.1111111111111111,
              "#46039f"
             ],
             [
              0.2222222222222222,
              "#7201a8"
             ],
             [
              0.3333333333333333,
              "#9c179e"
             ],
             [
              0.4444444444444444,
              "#bd3786"
             ],
             [
              0.5555555555555556,
              "#d8576b"
             ],
             [
              0.6666666666666666,
              "#ed7953"
             ],
             [
              0.7777777777777778,
              "#fb9f3a"
             ],
             [
              0.8888888888888888,
              "#fdca26"
             ],
             [
              1,
              "#f0f921"
             ]
            ],
            "type": "heatmapgl"
           }
          ],
          "histogram": [
           {
            "marker": {
             "pattern": {
              "fillmode": "overlay",
              "size": 10,
              "solidity": 0.2
             }
            },
            "type": "histogram"
           }
          ],
          "histogram2d": [
           {
            "colorbar": {
             "outlinewidth": 0,
             "ticks": ""
            },
            "colorscale": [
             [
              0,
              "#0d0887"
             ],
             [
              0.1111111111111111,
              "#46039f"
             ],
             [
              0.2222222222222222,
              "#7201a8"
             ],
             [
              0.3333333333333333,
              "#9c179e"
             ],
             [
              0.4444444444444444,
              "#bd3786"
             ],
             [
              0.5555555555555556,
              "#d8576b"
             ],
             [
              0.6666666666666666,
              "#ed7953"
             ],
             [
              0.7777777777777778,
              "#fb9f3a"
             ],
             [
              0.8888888888888888,
              "#fdca26"
             ],
             [
              1,
              "#f0f921"
             ]
            ],
            "type": "histogram2d"
           }
          ],
          "histogram2dcontour": [
           {
            "colorbar": {
             "outlinewidth": 0,
             "ticks": ""
            },
            "colorscale": [
             [
              0,
              "#0d0887"
             ],
             [
              0.1111111111111111,
              "#46039f"
             ],
             [
              0.2222222222222222,
              "#7201a8"
             ],
             [
              0.3333333333333333,
              "#9c179e"
             ],
             [
              0.4444444444444444,
              "#bd3786"
             ],
             [
              0.5555555555555556,
              "#d8576b"
             ],
             [
              0.6666666666666666,
              "#ed7953"
             ],
             [
              0.7777777777777778,
              "#fb9f3a"
             ],
             [
              0.8888888888888888,
              "#fdca26"
             ],
             [
              1,
              "#f0f921"
             ]
            ],
            "type": "histogram2dcontour"
           }
          ],
          "mesh3d": [
           {
            "colorbar": {
             "outlinewidth": 0,
             "ticks": ""
            },
            "type": "mesh3d"
           }
          ],
          "parcoords": [
           {
            "line": {
             "colorbar": {
              "outlinewidth": 0,
              "ticks": ""
             }
            },
            "type": "parcoords"
           }
          ],
          "pie": [
           {
            "automargin": true,
            "type": "pie"
           }
          ],
          "scatter": [
           {
            "fillpattern": {
             "fillmode": "overlay",
             "size": 10,
             "solidity": 0.2
            },
            "type": "scatter"
           }
          ],
          "scatter3d": [
           {
            "line": {
             "colorbar": {
              "outlinewidth": 0,
              "ticks": ""
             }
            },
            "marker": {
             "colorbar": {
              "outlinewidth": 0,
              "ticks": ""
             }
            },
            "type": "scatter3d"
           }
          ],
          "scattercarpet": [
           {
            "marker": {
             "colorbar": {
              "outlinewidth": 0,
              "ticks": ""
             }
            },
            "type": "scattercarpet"
           }
          ],
          "scattergeo": [
           {
            "marker": {
             "colorbar": {
              "outlinewidth": 0,
              "ticks": ""
             }
            },
            "type": "scattergeo"
           }
          ],
          "scattergl": [
           {
            "marker": {
             "colorbar": {
              "outlinewidth": 0,
              "ticks": ""
             }
            },
            "type": "scattergl"
           }
          ],
          "scattermapbox": [
           {
            "marker": {
             "colorbar": {
              "outlinewidth": 0,
              "ticks": ""
             }
            },
            "type": "scattermapbox"
           }
          ],
          "scatterpolar": [
           {
            "marker": {
             "colorbar": {
              "outlinewidth": 0,
              "ticks": ""
             }
            },
            "type": "scatterpolar"
           }
          ],
          "scatterpolargl": [
           {
            "marker": {
             "colorbar": {
              "outlinewidth": 0,
              "ticks": ""
             }
            },
            "type": "scatterpolargl"
           }
          ],
          "scatterternary": [
           {
            "marker": {
             "colorbar": {
              "outlinewidth": 0,
              "ticks": ""
             }
            },
            "type": "scatterternary"
           }
          ],
          "surface": [
           {
            "colorbar": {
             "outlinewidth": 0,
             "ticks": ""
            },
            "colorscale": [
             [
              0,
              "#0d0887"
             ],
             [
              0.1111111111111111,
              "#46039f"
             ],
             [
              0.2222222222222222,
              "#7201a8"
             ],
             [
              0.3333333333333333,
              "#9c179e"
             ],
             [
              0.4444444444444444,
              "#bd3786"
             ],
             [
              0.5555555555555556,
              "#d8576b"
             ],
             [
              0.6666666666666666,
              "#ed7953"
             ],
             [
              0.7777777777777778,
              "#fb9f3a"
             ],
             [
              0.8888888888888888,
              "#fdca26"
             ],
             [
              1,
              "#f0f921"
             ]
            ],
            "type": "surface"
           }
          ],
          "table": [
           {
            "cells": {
             "fill": {
              "color": "#EBF0F8"
             },
             "line": {
              "color": "white"
             }
            },
            "header": {
             "fill": {
              "color": "#C8D4E3"
             },
             "line": {
              "color": "white"
             }
            },
            "type": "table"
           }
          ]
         },
         "layout": {
          "annotationdefaults": {
           "arrowcolor": "#2a3f5f",
           "arrowhead": 0,
           "arrowwidth": 1
          },
          "autotypenumbers": "strict",
          "coloraxis": {
           "colorbar": {
            "outlinewidth": 0,
            "ticks": ""
           }
          },
          "colorscale": {
           "diverging": [
            [
             0,
             "#8e0152"
            ],
            [
             0.1,
             "#c51b7d"
            ],
            [
             0.2,
             "#de77ae"
            ],
            [
             0.3,
             "#f1b6da"
            ],
            [
             0.4,
             "#fde0ef"
            ],
            [
             0.5,
             "#f7f7f7"
            ],
            [
             0.6,
             "#e6f5d0"
            ],
            [
             0.7,
             "#b8e186"
            ],
            [
             0.8,
             "#7fbc41"
            ],
            [
             0.9,
             "#4d9221"
            ],
            [
             1,
             "#276419"
            ]
           ],
           "sequential": [
            [
             0,
             "#0d0887"
            ],
            [
             0.1111111111111111,
             "#46039f"
            ],
            [
             0.2222222222222222,
             "#7201a8"
            ],
            [
             0.3333333333333333,
             "#9c179e"
            ],
            [
             0.4444444444444444,
             "#bd3786"
            ],
            [
             0.5555555555555556,
             "#d8576b"
            ],
            [
             0.6666666666666666,
             "#ed7953"
            ],
            [
             0.7777777777777778,
             "#fb9f3a"
            ],
            [
             0.8888888888888888,
             "#fdca26"
            ],
            [
             1,
             "#f0f921"
            ]
           ],
           "sequentialminus": [
            [
             0,
             "#0d0887"
            ],
            [
             0.1111111111111111,
             "#46039f"
            ],
            [
             0.2222222222222222,
             "#7201a8"
            ],
            [
             0.3333333333333333,
             "#9c179e"
            ],
            [
             0.4444444444444444,
             "#bd3786"
            ],
            [
             0.5555555555555556,
             "#d8576b"
            ],
            [
             0.6666666666666666,
             "#ed7953"
            ],
            [
             0.7777777777777778,
             "#fb9f3a"
            ],
            [
             0.8888888888888888,
             "#fdca26"
            ],
            [
             1,
             "#f0f921"
            ]
           ]
          },
          "colorway": [
           "#636efa",
           "#EF553B",
           "#00cc96",
           "#ab63fa",
           "#FFA15A",
           "#19d3f3",
           "#FF6692",
           "#B6E880",
           "#FF97FF",
           "#FECB52"
          ],
          "font": {
           "color": "#2a3f5f"
          },
          "geo": {
           "bgcolor": "white",
           "lakecolor": "white",
           "landcolor": "#E5ECF6",
           "showlakes": true,
           "showland": true,
           "subunitcolor": "white"
          },
          "hoverlabel": {
           "align": "left"
          },
          "hovermode": "closest",
          "mapbox": {
           "style": "light"
          },
          "paper_bgcolor": "white",
          "plot_bgcolor": "#E5ECF6",
          "polar": {
           "angularaxis": {
            "gridcolor": "white",
            "linecolor": "white",
            "ticks": ""
           },
           "bgcolor": "#E5ECF6",
           "radialaxis": {
            "gridcolor": "white",
            "linecolor": "white",
            "ticks": ""
           }
          },
          "scene": {
           "xaxis": {
            "backgroundcolor": "#E5ECF6",
            "gridcolor": "white",
            "gridwidth": 2,
            "linecolor": "white",
            "showbackground": true,
            "ticks": "",
            "zerolinecolor": "white"
           },
           "yaxis": {
            "backgroundcolor": "#E5ECF6",
            "gridcolor": "white",
            "gridwidth": 2,
            "linecolor": "white",
            "showbackground": true,
            "ticks": "",
            "zerolinecolor": "white"
           },
           "zaxis": {
            "backgroundcolor": "#E5ECF6",
            "gridcolor": "white",
            "gridwidth": 2,
            "linecolor": "white",
            "showbackground": true,
            "ticks": "",
            "zerolinecolor": "white"
           }
          },
          "shapedefaults": {
           "line": {
            "color": "#2a3f5f"
           }
          },
          "ternary": {
           "aaxis": {
            "gridcolor": "white",
            "linecolor": "white",
            "ticks": ""
           },
           "baxis": {
            "gridcolor": "white",
            "linecolor": "white",
            "ticks": ""
           },
           "bgcolor": "#E5ECF6",
           "caxis": {
            "gridcolor": "white",
            "linecolor": "white",
            "ticks": ""
           }
          },
          "title": {
           "x": 0.05
          },
          "xaxis": {
           "automargin": true,
           "gridcolor": "white",
           "linecolor": "white",
           "ticks": "",
           "title": {
            "standoff": 15
           },
           "zerolinecolor": "white",
           "zerolinewidth": 2
          },
          "yaxis": {
           "automargin": true,
           "gridcolor": "white",
           "linecolor": "white",
           "ticks": "",
           "title": {
            "standoff": 15
           },
           "zerolinecolor": "white",
           "zerolinewidth": 2
          }
         }
        },
        "title": {
         "text": "<b> Taxa de vitória por posição principal dos herois </b>"
        },
        "xaxis": {
         "anchor": "y",
         "domain": [
          0,
          0.7363
         ],
         "title": {
          "text": "main_role"
         }
        },
        "xaxis2": {
         "anchor": "y2",
         "domain": [
          0.7413,
          1
         ],
         "matches": "x2",
         "showgrid": false,
         "showline": false,
         "showticklabels": false,
         "ticks": ""
        },
        "yaxis": {
         "anchor": "x",
         "domain": [
          0,
          1
         ],
         "title": {
          "text": "winrate"
         }
        },
        "yaxis2": {
         "anchor": "x2",
         "domain": [
          0,
          1
         ],
         "matches": "y",
         "showgrid": true,
         "showticklabels": false
        }
       }
      }
     },
     "metadata": {},
     "output_type": "display_data"
    }
   ],
   "source": [
    "fig = px.scatter(data_frame=df, \n",
    "                 x='main_role', \n",
    "                 y='winrate', \n",
    "                 color='primary_attr',\n",
    "                 marginal_y=\"box\",\n",
    "                 hover_data=['main_role','winrate','primary_attr','localized_name'],\n",
    "                 title=\"<b> Taxa de vitória por posição principal dos herois </b>\")\n",
    "fig.show()"
   ]
  },
  {
   "attachments": {},
   "cell_type": "markdown",
   "metadata": {},
   "source": [
    "<h6>Usar esse gráfico para fazer dashboard</h6>\n",
    "<ul>\n",
    "<li>Safelane tem em sua maioria herois de agilidade com essa posição principal</li>\n",
    "<li>Hard_support tem em sua maioria herois de inteligência com essa posição principal</li>\n",
    "<li>Offlane tem em sua maioria herois de força com essa posição principal</li>\n",
    "</ul>"
   ]
  },
  {
   "cell_type": "code",
   "execution_count": 85,
   "metadata": {},
   "outputs": [],
   "source": [
    "df.to_csv('./data/heroes_data_limpo.csv')"
   ]
  }
 ],
 "metadata": {
  "kernelspec": {
   "display_name": "Python 3",
   "language": "python",
   "name": "python3"
  },
  "language_info": {
   "codemirror_mode": {
    "name": "ipython",
    "version": 3
   },
   "file_extension": ".py",
   "mimetype": "text/x-python",
   "name": "python",
   "nbconvert_exporter": "python",
   "pygments_lexer": "ipython3",
   "version": "3.10.2"
  },
  "orig_nbformat": 4,
  "vscode": {
   "interpreter": {
    "hash": "107d7b120a5b68773a87d4067e673630b35702e55ebab3138143d08b1c4d7cbc"
   }
  }
 },
 "nbformat": 4,
 "nbformat_minor": 2
}
